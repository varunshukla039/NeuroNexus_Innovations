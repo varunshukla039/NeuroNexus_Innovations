{
  "nbformat": 4,
  "nbformat_minor": 0,
  "metadata": {
    "colab": {
      "provenance": []
    },
    "kernelspec": {
      "name": "python3",
      "display_name": "Python 3"
    },
    "language_info": {
      "name": "python"
    }
  },
  "cells": [
    {
      "cell_type": "code",
      "execution_count": null,
      "metadata": {
        "colab": {
          "base_uri": "https://localhost:8080/"
        },
        "id": "eqImJ02yAqlF",
        "outputId": "6cd03bea-feda-47cc-cbe1-8e889b3a06ee"
      },
      "outputs": [
        {
          "output_type": "stream",
          "name": "stdout",
          "text": [
            "Welcome to the Unique Rock-Paper-Scissors Challenge!\n",
            "Choose rock, paper, or scissors: rock\n",
            "\n",
            "You chose: rock\n",
            "Computer chose: paper\n",
            "You lose!\n",
            "Score - You: 0, Computer: 1\n",
            "Do you dare to challenge the computer again? (yes/no): yes\n",
            "Choose rock, paper, or scissors: scissors\n",
            "\n",
            "You chose: scissors\n",
            "Computer chose: paper\n",
            "You win!\n",
            "Score - You: 1, Computer: 1\n",
            "Do you dare to challenge the computer again? (yes/no): yes\n",
            "Choose rock, paper, or scissors: paper\n",
            "\n",
            "You chose: paper\n",
            "Computer chose: scissors\n",
            "You lose!\n",
            "Score - You: 1, Computer: 2\n"
          ]
        }
      ],
      "source": [
        "import random\n",
        "\n",
        "def player_input():\n",
        "    while True:\n",
        "        user_selection = input(\"Choose rock, paper, or scissors: \").lower()\n",
        "        if user_selection in [\"rock\", \"paper\", \"scissors\"]:\n",
        "            return user_selection\n",
        "        else:\n",
        "            print(\"Invalid choice. Please select rock, paper, or scissors.\")\n",
        "\n",
        "def computer_choice():\n",
        "    return random.choice([\"rock\", \"paper\", \"scissors\"])\n",
        "\n",
        "def determine_winner(user_choice, comp_choice):\n",
        "    if user_choice == comp_choice:\n",
        "        return \"It's a draw!\"\n",
        "    elif (\n",
        "        (user_choice == \"rock\" and comp_choice == \"scissors\") or\n",
        "        (user_choice == \"scissors\" and comp_choice == \"paper\") or\n",
        "        (user_choice == \"paper\" and comp_choice == \"rock\")\n",
        "    ):\n",
        "        return \"You win!\"\n",
        "    else:\n",
        "        return \"You lose!\"\n",
        "\n",
        "def main():\n",
        "    user_score = 0\n",
        "    comp_score = 0\n",
        "\n",
        "    print(\"Welcome to the Unique Rock-Paper-Scissors Challenge!\")\n",
        "\n",
        "    while True:\n",
        "        user_choice = player_input()\n",
        "        comp_choice = computer_choice()\n",
        "\n",
        "        print(f\"\\nYou chose: {user_choice}\")\n",
        "        print(f\"Computer chose: {comp_choice}\")\n",
        "\n",
        "        result = determine_winner(user_choice, comp_choice)\n",
        "        print(result)\n",
        "\n",
        "        if \"win\" in result:\n",
        "            user_score += 1\n",
        "        elif \"lose\" in result:\n",
        "            comp_score += 1\n",
        "\n",
        "        print(f\"Score - You: {user_score}, Computer: {comp_score}\")\n",
        "\n",
        "        play_again = input(\"Do you dare to challenge the computer again? (yes/no): \").lower()\n",
        "        if play_again != \"yes\":\n",
        "            print(\"Thanks for the epic battle! Until we meet again.\")\n",
        "            break\n",
        "\n",
        "if __name__ == \"__main__\":\n",
        "    main()\n"
      ]
    }
  ]
}
{
  "nbformat": 4,
  "nbformat_minor": 0,
  "metadata": {
    "colab": {
      "provenance": []
    },
    "kernelspec": {
      "name": "python3",
      "display_name": "Python 3"
    },
    "language_info": {
      "name": "python"
    }
  },
  "cells": [
    {
      "cell_type": "code",
      "execution_count": 4,
      "metadata": {
        "colab": {
          "base_uri": "https://localhost:8080/"
        },
        "id": "6GdOytC_BDy8",
        "outputId": "f74ad31f-1c23-4d1f-d5e4-f1c57839a89e"
      },
      "outputs": [
        {
          "output_type": "stream",
          "name": "stdout",
          "text": [
            "Welcome to the Password Generator!\n",
            "Enter the desired length of your password: 20\n",
            "\n",
            "Your generated password is:\n",
            "?K&?WtPn@%mX1kgz;7rn\n"
          ]
        }
      ],
      "source": [
        "import random\n",
        "import string\n",
        "\n",
        "def generate_password(length):\n",
        "    characters = string.ascii_letters + string.digits + string.punctuation\n",
        "    password = ''.join(random.choice(characters) for _ in range(length))\n",
        "    return password\n",
        "\n",
        "def main():\n",
        "    print(\"Welcome to the Password Generator!\")\n",
        "\n",
        "    while True:\n",
        "        try:\n",
        "            password_length = int(input(\"Enter the desired length of your password: \"))\n",
        "            if password_length <= 0:\n",
        "                print(\"Please enter a positive integer for password length.\")\n",
        "                continue\n",
        "            break\n",
        "        except ValueError:\n",
        "            print(\"Invalid input. Please enter a valid integer for password length.\")\n",
        "\n",
        "    password = generate_password(password_length)\n",
        "\n",
        "    print(\"\\nYour generated password is:\")\n",
        "    print(password)\n",
        "\n",
        "if __name__ == \"__main__\":\n",
        "    main()\n"
      ]
    }
  ]
}